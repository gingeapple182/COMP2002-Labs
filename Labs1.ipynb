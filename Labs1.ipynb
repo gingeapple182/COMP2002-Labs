{
  "cells": [
    {
      "cell_type": "code",
      "source": [
        "print(\"hello world\")"
      ],
      "metadata": {
        "id": "mx_W1eCbXqIr",
        "outputId": "a4f7e657-7a55-4468-9c6c-94e30f05a96d",
        "colab": {
          "base_uri": "https://localhost:8080/"
        }
      },
      "execution_count": 3,
      "outputs": [
        {
          "output_type": "stream",
          "name": "stdout",
          "text": [
            "hello world\n"
          ]
        }
      ]
    },
    {
      "cell_type": "markdown",
      "source": [
        "# Exercise 1 - Basics"
      ],
      "metadata": {
        "id": "QMlgcwM2X1Ci"
      }
    },
    {
      "cell_type": "markdown",
      "source": [
        "This first exercise is designed to familiarise you with the syntax and logic of Python.\n",
        "- Create a simple 1-D array in Python of length 7"
      ],
      "metadata": {
        "id": "qoMMbnCgX30H"
      }
    },
    {
      "cell_type": "code",
      "source": [
        "x = [45, 168, 14, 5, 6187, 655, 9]\n",
        "print(\"Array length: \", len(x))"
      ],
      "metadata": {
        "id": "X3vrw7-vY9Ns",
        "outputId": "b2981510-c7a4-4439-9c48-a83081e91deb",
        "colab": {
          "base_uri": "https://localhost:8080/"
        }
      },
      "execution_count": 8,
      "outputs": [
        {
          "output_type": "stream",
          "name": "stdout",
          "text": [
            "Array length:  7\n"
          ]
        }
      ]
    },
    {
      "cell_type": "markdown",
      "source": [
        "- Select just the fourth element of your array\n"
      ],
      "metadata": {
        "id": "Sq1K8vMMYQG0"
      }
    },
    {
      "cell_type": "code",
      "source": [
        "x[3]"
      ],
      "metadata": {
        "id": "CjGb6-MLZwPI",
        "outputId": "bedc61ab-545d-4425-b7e9-55f633e70470",
        "colab": {
          "base_uri": "https://localhost:8080/"
        }
      },
      "execution_count": 9,
      "outputs": [
        {
          "output_type": "execute_result",
          "data": {
            "text/plain": [
              "5"
            ]
          },
          "metadata": {},
          "execution_count": 9
        }
      ]
    },
    {
      "cell_type": "markdown",
      "source": [
        "- Add an element to your array and check the length to ensure it has been added successfully\n"
      ],
      "metadata": {
        "id": "DTsvnNPxa3uW"
      }
    },
    {
      "cell_type": "code",
      "source": [
        "x.append(87)\n",
        "print(\"Array length:\", len(x))"
      ],
      "metadata": {
        "id": "BS3YwbK0a438",
        "outputId": "9dbf29d7-8f75-4497-e60c-664133f4a1b9",
        "colab": {
          "base_uri": "https://localhost:8080/"
        }
      },
      "execution_count": 11,
      "outputs": [
        {
          "output_type": "stream",
          "name": "stdout",
          "text": [
            "Array length: 8\n"
          ]
        }
      ]
    },
    {
      "cell_type": "markdown",
      "source": [
        "- Remove the second element of your array"
      ],
      "metadata": {
        "id": "fefOP2QvbKgx"
      }
    },
    {
      "cell_type": "code",
      "source": [
        "x.pop(1)\n"
      ],
      "metadata": {
        "id": "dkixMeaebLel",
        "outputId": "d49e7cbf-fdaf-41c3-c9a6-1b1ff8db898d",
        "colab": {
          "base_uri": "https://localhost:8080/"
        }
      },
      "execution_count": 14,
      "outputs": [
        {
          "output_type": "execute_result",
          "data": {
            "text/plain": [
              "168"
            ]
          },
          "metadata": {},
          "execution_count": 14
        }
      ]
    },
    {
      "cell_type": "code",
      "source": [
        "print(x)"
      ],
      "metadata": {
        "id": "3GhfA89ybeMt",
        "outputId": "05b64fc0-1804-4330-9c0a-7c9ea29f68f8",
        "colab": {
          "base_uri": "https://localhost:8080/"
        }
      },
      "execution_count": 15,
      "outputs": [
        {
          "output_type": "stream",
          "name": "stdout",
          "text": [
            "[45, 14, 5, 6187, 655, 9, 87]\n"
          ]
        }
      ]
    },
    {
      "cell_type": "markdown",
      "source": [
        "# Exercise 2 - Numpy and Matplotlib"
      ],
      "metadata": {
        "id": "OC4IpuOabrbG"
      }
    },
    {
      "cell_type": "markdown",
      "source": [
        "For this exercise, you will need to import the numpy and matplotlib libraries using the method shown above."
      ],
      "metadata": {
        "id": "DBWCYqPMbxb7"
      }
    },
    {
      "cell_type": "code",
      "source": [
        "import matplotlib.pyplot as plt\n",
        "import numpy as np"
      ],
      "metadata": {
        "id": "0A4kmVzObrEV"
      },
      "execution_count": 17,
      "outputs": []
    },
    {
      "cell_type": "markdown",
      "source": [
        "Generate a plot of the function y = sin(x) between the values -pi and pi\n",
        "- Use the Numpy function np.linspace to generate 100 values in that region\n",
        "- The Numpy function np.sin will compue the y value\n",
        "- he Matplotlib function plt.plot(x, y) can be used to plot the graph, You can also use plt.scatter(x, y) to get points rather than a line\n",
        "- See if you can find out how to change the colour of the line (for pl.plot) and dots (for plt.scatter)"
      ],
      "metadata": {
        "id": "ZYwuVj0dcDkz"
      }
    },
    {
      "cell_type": "code",
      "source": [
        "x = np.linspace(-np.pi, np.pi, 100)\n",
        "y = np.sin(x)\n",
        "plt.figure()\n",
        "plt.plot(x, y, color=\"red\")\n",
        "plt.title(\"$y=sin(x)$\")\n",
        "plt.xlabel(\"$x$\")\n",
        "plt.ylabel(\"$y$\")\n",
        "plt.savefig(\"sin.png\", bbox_inches=\"tight\")\n",
        "plt.show()"
      ],
      "metadata": {
        "id": "bFlz1S9Lcp4v",
        "outputId": "5141d19c-321c-4239-c9f4-52eb59f544ec",
        "colab": {
          "base_uri": "https://localhost:8080/",
          "height": 474
        }
      },
      "execution_count": 22,
      "outputs": [
        {
          "output_type": "display_data",
          "data": {
            "text/plain": [
              "<Figure size 640x480 with 1 Axes>"
            ],
            "image/png": "[encoded data removed]"
          },
          "metadata": {}
        }
      ]
    },
    {
      "cell_type": "markdown",
      "source": [
        "# Exercise 3 - More Numpy and Matplotlib"
      ],
      "metadata": {
        "id": "3b6xeNqgdkh2"
      }
    },
    {
      "cell_type": "markdown",
      "source": [
        "Generate 100 random numbers from the *uniform distribution* (np.random.rand) and 100 samples from the *normal distribution* (np.random.randn). Produce a boxplot showing the two distributions"
      ],
      "metadata": {
        "id": "eGP_UPFbd8Zm"
      }
    },
    {
      "cell_type": "code",
      "source": [
        "uniform = np.random.rand(100)\n",
        "normal = np.random.randn(100)\n",
        "plt.figure()\n",
        "plt.boxplot([uniform, normal])\n",
        "plt.xticks([1, 2], [\"Uniform\", \"Normal\"])\n",
        "plt.ylabel(\"$p(x)$\")\n",
        "plt.savefig(\"boxplot.png\", bbox_inches=\"tight\")\n",
        "plt.show()"
      ],
      "metadata": {
        "id": "G31Iptk4elHA",
        "outputId": "bd325bcb-3a40-4bc7-e169-158d5278945d",
        "colab": {
          "base_uri": "https://localhost:8080/",
          "height": 430
        }
      },
      "execution_count": 23,
      "outputs": [
        {
          "output_type": "display_data",
          "data": {
            "text/plain": [
              "<Figure size 640x480 with 1 Axes>"
            ],
            "image/png": "[encoded data removed]"
          },
          "metadata": {}
        }
      ]
    },
    {
      "cell_type": "markdown",
      "source": [
        "**Extension task** - Produce a histogram showing the two distributions.<br/>\n",
        "You can find more information on the commands you'll need here:\n",
        "- Numpy random nubers\n",
        "- Maplotlib boxplot"
      ],
      "metadata": {
        "id": "utXd81DzfQnN"
      }
    },
    {
      "cell_type": "code",
      "source": [
        "uniform = np.random.rand(1000)\n",
        "normal = np.random.randn(1000)\n",
        "\n",
        "plt.figure()\n",
        "plt.hist([uniform])\n",
        "plt.xticks([0.5],[\"Uniform\"])\n",
        "plt.ylabel(\"$p(x)$\")\n",
        "plt.savefig(\"histogram.png\", bbox_inches=\"tight\")\n",
        "plt.show()\n",
        "plt.figure()\n",
        "plt.hist([normal])\n",
        "plt.xticks([0.5],[\"Normal\"])\n",
        "plt.ylabel(\"$p(x)$\")\n",
        "plt.savefig(\"histogram.png\", bbox_inches=\"tight\")\n",
        "plt.show()"
      ],
      "metadata": {
        "id": "yXr9iCUPfnoJ",
        "outputId": "751c60d2-2573-4077-c7ae-3ec4f688b49d",
        "colab": {
          "base_uri": "https://localhost:8080/",
          "height": 843
        }
      },
      "execution_count": 24,
      "outputs": [
        {
          "output_type": "display_data",
          "data": {
            "text/plain": [
              "<Figure size 640x480 with 1 Axes>"
            ],
            "image/png": "[encoded data removed]"
          },
          "metadata": {}
        },
        {
          "output_type": "display_data",
          "data": {
            "text/plain": [
              "<Figure size 640x480 with 1 Axes>"
            ],
            "image/png": "[encoded data removed]"
          },
          "metadata": {}
        }
      ]
    },
    {
      "cell_type": "markdown",
      "source": [
        "# Exercise 4 - Fibonacci Sequence"
      ],
      "metadata": {
        "id": "ynKmzgfSgElz"
      }
    },
    {
      "cell_type": "markdown",
      "source": [
        "The Fibonacci sequence is a mathematical progression wherein each element is the sum of the previous two elements. <br/> Write a function fibonacci that takes an argument *N* and returns a list containing the first *N* Fibonacci numbers"
      ],
      "metadata": {
        "id": "wCoFYp8tgJo9"
      }
    },
    {
      "cell_type": "code",
      "source": [
        "def fibonacci(N):\n",
        "  sequence = [0, 1]\n",
        "\n",
        "  for n in range(N-2):\n",
        "    sequence.append(sequence[-1] + sequence[-2])\n",
        "\n",
        "  return sequence\n",
        "\n",
        "seq = fibonacci(15)\n",
        "print(seq)"
      ],
      "metadata": {
        "id": "4GWEL3LSjGE5",
        "outputId": "32ec36a7-be8e-4cd2-8851-2f13ab86bb01",
        "colab": {
          "base_uri": "https://localhost:8080/"
        }
      },
      "execution_count": 27,
      "outputs": [
        {
          "output_type": "stream",
          "name": "stdout",
          "text": [
            "[0, 1, 1, 2, 3, 5, 8, 13, 21, 34, 55, 89, 144, 233, 377]\n"
          ]
        }
      ]
    },
    {
      "cell_type": "markdown",
      "source": [
        "# Exercise 5 - Bubble Sort"
      ],
      "metadata": {
        "id": "KJf6ybiDjeLk"
      }
    },
    {
      "cell_type": "markdown",
      "source": [
        "Write a function called bubble that takes a list of values and performs the bubble sort algorithm in-place (meaning you don't return anything, the sort is performed on the variable you pass in). <br/>\n",
        "Once you've implemented the function, call it by passing a list of values to assure yourself that it works."
      ],
      "metadata": {
        "id": "DBZFcwGQjg-K"
      }
    },
    {
      "cell_type": "code",
      "source": [
        "def bubble(L):\n",
        "  N = len(L)\n",
        "  for i in range(N):\n",
        "    for j in range(N):\n",
        "      if L[i] < L[j]:\n",
        "        L[i], L[j] = L[j], L[i]"
      ],
      "metadata": {
        "id": "4pGIFs_2j4vC"
      },
      "execution_count": 28,
      "outputs": []
    },
    {
      "cell_type": "code",
      "source": [
        "L = [46, 3681, 45 , 652, 959, 56]\n",
        "bubble(L)\n",
        "print(\"Sorted list:\", L)"
      ],
      "metadata": {
        "id": "ccj-kNiZkUEw",
        "outputId": "66292169-c2bc-4f3d-d437-9f63d3d2fa6f",
        "colab": {
          "base_uri": "https://localhost:8080/"
        }
      },
      "execution_count": 29,
      "outputs": [
        {
          "output_type": "stream",
          "name": "stdout",
          "text": [
            "Sorted list: [45, 46, 56, 652, 959, 3681]\n"
          ]
        }
      ]
    }
  ],
  "metadata": {
    "language_info": {
      "name": "python"
    },
    "colab": {
      "provenance": []
    },
    "kernelspec": {
      "name": "python3",
      "display_name": "Python 3"
    }
  },
  "nbformat": 4,
  "nbformat_minor": 0
}